{
 "cells": [
  {
   "cell_type": "markdown",
   "metadata": {},
   "source": [
    "# One-Dimensional Neutron Transport Equation ($S_{N}$) Solver using the Discrete Ordinates Method\n",
    "\n",
    "## Machine Learning Methods are used to reduce the data requirements of Scattering and Fission Cross-Sections\n",
    "\n",
    "### Current Work\n",
    "- [ ] Add Testing Functions with pytest\n",
    "- [ ] Clean up $\\texttt{source.py}$ and test functions\n",
    "- [ ] Make time-dependent source problems for $\\texttt{source.py}$\n",
    "- [ ] Make $\\texttt{class}$ to run through benchmark problems\n",
    "\n",
    "### Current Data Saving Techniques\n",
    "<!-- 1. $\\texttt{correct.py}$ is the correct $S_{N}$ code for one-dimensional sweeps. -->\n",
    "1. $\\texttt{dj_prob.py}$ incorporates Deep Jointly-Informed Neural Networks<sup>1</sup> (DJINN) into the $S_{N}$ code for $\\Sigma_\\mathrm{s} \\phi$ and $\\Sigma_\\mathrm{f} \\phi$ calculations.\n",
    "2. $\\texttt{ae_prob.py}$ incorporates an autoencoder into the $S_{N}$ code for $\\phi$, $\\Sigma_\\mathrm{s} \\phi$, and $\\Sigma_\\mathrm{f} \\phi$ to compress the energy groups and use in conjuction with DJINN. \n",
    "3. $\\texttt{svd_prob.py}$ incorporates an SVD into the $S_{N}$ code for the $\\Sigma_\\mathrm{s}$ and $\\Sigma_\\mathrm{f}$ matrices.\n",
    "4. $\\texttt{hybrid.py}$ separates the collided and uncollided terms to be used with different numbers of ordinates ($N$) and energy groups ($G$). \n",
    "\n",
    "### Hybrid Method for Time Dependent Multigroup Problems\n",
    "0. Initialize $\\psi^n$ to zero\n",
    "1. Calculate the uncollided $\\psi^{n+1}_{u}$ and $\\phi_{u}^{n+1}$ through the sweep\n",
    "\t\\begin{equation}\n",
    "\t\\Omega \\cdot \\nabla \\psi_{u}^{n+1} + \\left( \\Sigma_\\mathrm{t} + \\frac{1}{v \\Delta t} \\right) \\psi_{u}^{n+1} = Q_u + \\frac{1}{v \\Delta t} \\psi_{u}^{n}\n",
    "\t\\end{equation} \\begin{equation} \\begin{split}\n",
    "\t\\psi_{u}^{n+1} \\left( \\frac{\\mu_n}{\\Delta x} + \\frac{1}{2} \\Sigma_\\mathrm{t} + \\frac{1}{2 v \\Delta t} \\right) &= \\\\ Q_u + \\frac{1}{v \\Delta t} \\psi_{u}^{n} &+ \\psi_{u}^{n+1} \\left( \\frac{\\mu_n}{\\Delta x} - \\frac{1}{2} \\Sigma_\\mathrm{t} - \\frac{1}{2 v \\Delta t} \\right)\n",
    "\t\\end{split} \\end{equation} \n",
    "2. Use $\\phi_{u}^{n+1}$ to create source term ($Q_c$) for the collided equation: \n",
    "\t\\begin{equation} \n",
    "\tQ_c = \\Sigma_\\mathrm{s} \\phi_{u}^{n+1} + \\Sigma_\\mathrm{f} \\phi_{u}^{n+1}\n",
    "\t\\end{equation}\n",
    "3. Solve the collided equation with the new source term ($Q_c$)\n",
    "\t\\begin{equation}\n",
    "\t\\Omega \\cdot \\nabla \\psi_{c}^{n+1} + \\left( \\Sigma_\\mathrm{t} + \\frac{1}{v \\Delta t} \\right) \\psi_{c}^{n+1} = \\Sigma_\\mathrm{s} \\phi_{c}^{n+1} + \\Sigma_\\mathrm{f} \\phi_{c}^{n+1} + Q_{c} \n",
    "\t\\end{equation} \n",
    "4. Solve the angular flux for the next time step ($\\psi^{n+2}$)\n",
    "\t\\begin{equation} \\begin{split}\n",
    "\t\\Omega \\cdot \\nabla \\psi_{u}^{n+2} &+ \\left( \\Sigma_\\mathrm{t} + \\frac{1}{v \\Delta t} \\right) \\psi_{u}^{n+2} =  \\\\ &\\Sigma_\\mathrm{s} (\\phi_{c}^{n+1} + \\phi_{u}^{n+1}) + \\Sigma_\\mathrm{f} (\\phi_{c}^{n+1} + \\phi_{u}^{n+1}) + Q_{u} + \\frac{1}{v \\Delta t} \\psi_{c}^{n+1} \n",
    "\t\\end{split} \\end{equation} \n",
    "5. Repeat Steps 1-4 with the new angular flux\n",
    "\n",
    "\n",
    "\n",
    "<sup>1</sup> K. D. Humbird, J. L. Peterson, and R. G. McClarren. \"Deep neural network initialization with decision trees.\" *IEEE transactions on neural networks and learning systems*,volume 30(5), pp. 1286–1295 (2018)"
   ]
  },
  {
   "cell_type": "code",
   "execution_count": null,
   "metadata": {},
   "outputs": [],
   "source": []
  }
 ],
 "metadata": {
  "kernelspec": {
   "display_name": "Python 3",
   "language": "python",
   "name": "python3"
  },
  "language_info": {
   "codemirror_mode": {
    "name": "ipython",
    "version": 3
   },
   "file_extension": ".py",
   "mimetype": "text/x-python",
   "name": "python",
   "nbconvert_exporter": "python",
   "pygments_lexer": "ipython3",
   "version": "3.7.7"
  }
 },
 "nbformat": 4,
 "nbformat_minor": 4
}

